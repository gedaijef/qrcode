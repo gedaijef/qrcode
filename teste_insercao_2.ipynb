{
 "cells": [
  {
   "cell_type": "markdown",
   "metadata": {},
   "source": [
    "### Importações"
   ]
  },
  {
   "cell_type": "code",
   "execution_count": null,
   "metadata": {},
   "outputs": [],
   "source": [
    "import pandas as pd\n",
    "from googleapiclient.discovery import build\n",
    "from googleapiclient.http import MediaFileUpload\n",
    "from google.oauth2 import service_account\n",
    "import psycopg2\n",
    "\n",
    "# pip install google-api-python-client google-auth\n"
   ]
  },
  {
   "cell_type": "markdown",
   "metadata": {},
   "source": [
    "### Configurações da API do Google Drive"
   ]
  },
  {
   "cell_type": "code",
   "execution_count": null,
   "metadata": {},
   "outputs": [],
   "source": [
    "SERVICE_ACCOUNT_FILE = 'caminho/para/credenciais.json'\n",
    "SCOPES = ['https://www.googleapis.com/auth/drive.file']\n",
    "\n",
    "credentials = service_account.Credentials.from_service_account_file(\n",
    "    SERVICE_ACCOUNT_FILE, scopes=SCOPES)\n",
    "service = build('drive', 'v3', credentials=credentials)"
   ]
  },
  {
   "cell_type": "markdown",
   "metadata": {},
   "source": [
    "### Banco de Dados"
   ]
  },
  {
   "cell_type": "code",
   "execution_count": null,
   "metadata": {},
   "outputs": [],
   "source": [
    "# método para subir a imagem no drive\n",
    "def upload_file_to_drive(file_path, mime_type='image/jpeg'):\n",
    "    file_metadata = {'name': file_path.split('/')[-1]}\n",
    "    media = MediaFileUpload(file_path, mimetype=mime_type)\n",
    "    file = service.files().create(body=file_metadata, media_body=media, fields='id').execute()\n",
    "    file_id = file.get('id')\n",
    "    return f'https://drive.google.com/uc?id={file_id}'\n",
    "\n",
    "# Conectar ao banco de dados PostgreSQL\n",
    "conn = psycopg2.connect(\n",
    "    dbname=\"dbpresencatech2025\",\n",
    "    user=\"dbpresencatech2025_user\",\n",
    "    password=\"3xFezRq99dDulmawROUuP5cWTowtAx5K\",\n",
    "    host=\"dpg-cpqrj6dumphs73b19nag-a.oregon-postgres.render.com\",\n",
    "    port=\"5432\"\n",
    ")\n",
    "\n",
    "# Criar um cursor para executar comandos SQL\n",
    "cur = conn.cursor()\n",
    "\n",
    "# função para inserir no banco de dados\n",
    "def insert_candidate_data(nome, genero, nr_inscricao, escola, notebook, jantar, turma, periodo, sala, professor, imagem):\n",
    "    cur.execute(\n",
    "        \"\"\"\n",
    "        INSERT INTO candidatos (nome, genero, nr_inscricao, escola, notebook, jantar, turma, periodo, sala, professor, imagem)\n",
    "        VALUES (%s, %s, %s, %s, %s, %s, %s, %s, %s, %s, %s)\n",
    "        \"\"\",\n",
    "        (nome, genero, nr_inscricao, escola, notebook, jantar, turma, periodo, sala, professor, imagem)\n",
    "    )\n",
    "    conn.commit()\n",
    "    \n",
    "# Ler o arquivo Excel\n",
    "df = pd.read_excel('./Cuidado_com_os_dados.xlsx')\n",
    "\n",
    "# Processar cada linha do DataFrame\n",
    "for index, row in df.iterrows():\n",
    "    # Caminho da imagem\n",
    "    image_path = row['imagem']\n",
    "    \n",
    "    # Fazer o upload da imagem e obter o link\n",
    "    image_link = upload_file_to_drive(image_path)\n",
    "    \n",
    "    # Inserir dados no banco de dados\n",
    "    insert_candidate_data(row['Nome'], row['Genero'], row['Inscrição'], row['Escola'], row['Notebook'], row['Jantar'], row['Turmas'], row['Dia'], row['Sala'], row['Professor'], image_link)\n",
    "\n",
    "# Fechar a conexão com o banco de dados\n",
    "cur.close()\n",
    "conn.close()"
   ]
  }
 ],
 "metadata": {
  "language_info": {
   "name": "python"
  }
 },
 "nbformat": 4,
 "nbformat_minor": 2
}

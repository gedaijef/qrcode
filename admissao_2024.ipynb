{
 "cells": [
  {
   "cell_type": "markdown",
   "metadata": {},
   "source": [
    "Para importar as bibliotecas"
   ]
  },
  {
   "cell_type": "code",
   "execution_count": 1,
   "metadata": {},
   "outputs": [
    {
     "name": "stderr",
     "output_type": "stream",
     "text": [
      "C:\\Users\\beatrizfavero-ieg\\AppData\\Local\\Temp\\ipykernel_23276\\2428076990.py:1: DeprecationWarning: \n",
      "Pyarrow will become a required dependency of pandas in the next major release of pandas (pandas 3.0),\n",
      "(to allow more performant data types, such as the Arrow string type, and better interoperability with other libraries)\n",
      "but was not found to be installed on your system.\n",
      "If this would cause problems for you,\n",
      "please provide us feedback at https://github.com/pandas-dev/pandas/issues/54466\n",
      "        \n",
      "  import pandas as pd\n"
     ]
    }
   ],
   "source": [
    "import pandas as pd\n",
    "import numpy as np\n",
    "import qrcode\n",
    "import os"
   ]
  },
  {
   "cell_type": "markdown",
   "metadata": {},
   "source": [
    "Para gerar as pastas e os páginas HTML"
   ]
  },
  {
   "cell_type": "code",
   "execution_count": 2,
   "metadata": {},
   "outputs": [],
   "source": [
    "\n",
    "base_html = pd.read_excel('finalizado.xlsx',\n",
    "                              usecols=['Nome','Turma', 'Sala', 'Professor', 'Inscrição'])\n",
    "\n",
    "# for i in range(len(base_html)):\n",
    "for i in range(len(base_html)):\n",
    "     \n",
    "    site = f\"\"\"\n",
    "    <!DOCTYPE html>\n",
    "    <html lang=\"pt-br\">\n",
    "    <head>\n",
    "        <meta charset=\"UTF-8\">\n",
    "        <meta name=\"viewport\" content=\"width=device-width, initial-scale=1.0\">\n",
    "        <title>Germinare TECH</title>\n",
    "        <style>\n",
    "            p{{\n",
    "                font: arial;\n",
    "                font-size: 1.5em;\n",
    "            }}\n",
    "\n",
    "        </style>\n",
    "    </head>\n",
    "        <body>\n",
    "        <h1>NÃO</h1>\n",
    "            <p>\n",
    "                Nome: <strong>{base_html[\"Nome\"][i]}</strong>\n",
    "            </p>\n",
    "            <p>\n",
    "                Turma: <strong>{base_html[\"Turma\"][i]}</strong>\n",
    "            </p>\n",
    "            <p>\n",
    "                Sala: <strong>{base_html[\"Sala\"][i]}</strong>\n",
    "            </p>\n",
    "            <p>\n",
    "                Professor: <strong>{base_html[\"Professor\"][i]}</strong> \n",
    "            </p>\n",
    "        </body>\n",
    "        </html>\n",
    "        \"\"\"\n",
    "    # print(info)\n",
    "\n",
    "\n",
    "    folder = os.path.join(\"paginas_html/\", base_html[\"Inscrição\"][i])\n",
    "    os.mkdir(folder)\n",
    "    arquivo = open(f'{folder}/{base_html[\"Inscrição\"][i]}.html', \"a\")\n",
    "    #arquivo = open(f'teste.html', \"a\")\n",
    "\n",
    "    # print(site)\n",
    "    arquivo.write(site)\n",
    "    arquivo.close()"
   ]
  },
  {
   "cell_type": "markdown",
   "metadata": {},
   "source": [
    "Para gerar os QR_Codes"
   ]
  },
  {
   "cell_type": "code",
   "execution_count": 3,
   "metadata": {},
   "outputs": [],
   "source": [
    "df_qr = pd.read_excel('finalizado.xlsx',\n",
    "                              usecols=['Nome','Turma', 'Sala', 'Professor', 'Inscrição'])\n",
    "\n",
    "# for i in range(len(df_qr)):\n",
    "for i in range(len(df_qr)):\n",
    "    nome_insc = \"\"\n",
    "    link = f'https://gedaijef.github.io/qrcode/{df_qr[\"Inscrição\"][i].replace(\" \", \"_\")}/{df_qr[\"Inscrição\"][i].replace(\" \", \"_\")}.html'\n",
    "    qrimg = qrcode.make(link)\n",
    "    qrimg.save(f'qrCodes/{df_qr[\"Inscrição\"][i].replace(\" \", \"_\")}.png')"
   ]
  },
  {
   "cell_type": "code",
   "execution_count": null,
   "metadata": {},
   "outputs": [],
   "source": []
  }
 ],
 "metadata": {
  "kernelspec": {
   "display_name": "Python 3",
   "language": "python",
   "name": "python3"
  },
  "language_info": {
   "codemirror_mode": {
    "name": "ipython",
    "version": 3
   },
   "file_extension": ".py",
   "mimetype": "text/x-python",
   "name": "python",
   "nbconvert_exporter": "python",
   "pygments_lexer": "ipython3",
   "version": "3.11.2"
  },
  "orig_nbformat": 4
 },
 "nbformat": 4,
 "nbformat_minor": 2
}

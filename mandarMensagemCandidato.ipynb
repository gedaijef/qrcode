{
 "cells": [
  {
   "cell_type": "code",
   "execution_count": 3,
   "metadata": {},
   "outputs": [],
   "source": [
    "import pandas as pd\n",
    "from datetime import datetime\n",
    "import pywhatkit as kit\n",
    "import os\n",
    "import time\n",
    "\n",
    "# Carregar os dados do Excel\n",
    "file_path = 'admissao - teste.xlsx'\n",
    "data = pd.read_excel(file_path, sheet_name='candidatos')\n",
    "\n",
    "# Caminho da pasta onde estão as imagens\n",
    "image_folder = './img'\n",
    "\n",
    "# Tempo de espera entre o envio das mensagens (em segundos)\n",
    "intervalo_entre_mensagens = 10\n",
    "\n",
    "# Enviar mensagens de aniversário\n",
    "for index, row in data.iterrows():\n",
    "    # Número do WhatsApp\n",
    "    num_whatsapp = row[\"num_whatsapp\"]\n",
    "    nr_inscricao = row['nr_inscricao']\n",
    "    nome = row[\"nome\"]\n",
    "    mensagem = f\"Olá, {nome}! \\nAqui está o qrcode que será solicitado na entrada do curso preparatório. \\nTenha um ótimo dia! 🌻\"\n",
    "    imagem_nome = f\"{nr_inscricao}.png\"\n",
    "    imagem_path = os.path.join(image_folder, imagem_nome)\n",
    "    \n",
    "    # Verifica se a imagem existe\n",
    "    if os.path.exists(imagem_path):\n",
    "        # Envia a mensagem com a imagem\n",
    "        kit.sendwhats_image(num_whatsapp, imagem_path, caption=mensagem)\n",
    "    else:\n",
    "        # Envia a mensagem sem a imagem\n",
    "        kit.sendwhatmsg_to_group(num_whatsapp, mensagem, datetime.now().hour, datetime.now().minute + 1)\n",
    "    \n",
    "    # Esperar o intervalo definido antes de enviar a próxima mensagem\n",
    "    time.sleep(intervalo_entre_mensagens)\n",
    "\n"
   ]
  }
 ],
 "metadata": {
  "kernelspec": {
   "display_name": "Python 3",
   "language": "python",
   "name": "python3"
  },
  "language_info": {
   "codemirror_mode": {
    "name": "ipython",
    "version": 3
   },
   "file_extension": ".py",
   "mimetype": "text/x-python",
   "name": "python",
   "nbconvert_exporter": "python",
   "pygments_lexer": "ipython3",
   "version": "3.12.1"
  }
 },
 "nbformat": 4,
 "nbformat_minor": 2
}

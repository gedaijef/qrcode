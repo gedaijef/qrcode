{
 "cells": [
  {
   "cell_type": "markdown",
   "metadata": {},
   "source": [
    "# <center> Criando uma conexão para a inserção de dados do excel para uma tabela de um banco de dados </center>"
   ]
  },
  {
   "cell_type": "markdown",
   "metadata": {},
   "source": [
    "### Inserindo as bibliotecas"
   ]
  },
  {
   "cell_type": "code",
   "execution_count": 5,
   "metadata": {},
   "outputs": [],
   "source": [
    "import pandas as pd\n",
    "import psycopg2"
   ]
  },
  {
   "cell_type": "markdown",
   "metadata": {},
   "source": [
    "### Carregando os dados do excel"
   ]
  },
  {
   "cell_type": "code",
   "execution_count": 6,
   "metadata": {},
   "outputs": [
    {
     "name": "stdout",
     "output_type": "stream",
     "text": [
      "     N                     Nome Genero Nascimento    Inscrição  \\\n",
      "0    1      Isabelle de Sá Foly      F 1970-08-10  F97T3482EV5   \n",
      "1    2            Eduardo Ramos      M 1971-11-30  374G11FF1S6   \n",
      "2    3           Flávio Barbosa      M 1972-05-10  16PTLFP342I   \n",
      "3    4          Rômulo Pedrazza      M 1973-07-23  ACVHF34SCFN   \n",
      "4    5             Manuela Brum      F 1973-10-09  XYGGLABQOFG   \n",
      "..  ..                      ...    ...        ...          ...   \n",
      "85  86    Matheus Matta Marques      M 1988-01-09  8GV3O565Q9F   \n",
      "86  87            Lucas Martins      M 1988-01-10  NI6OFKEXDGT   \n",
      "87  88  Breno Franklin da Silva      M 1988-01-24  QTZPLN9YL1Z   \n",
      "88  89   Tiago de Araújo Júnior      M 1988-03-24  DSOASVDQBYZ   \n",
      "89  90            João Monteiro      M 1988-04-26  OZWVT7H19F7   \n",
      "\n",
      "                CPF   Escola              PI Notebook Jantar    Turma  \\\n",
      "0      438753688/86  PRIVATE     Colaborador      NÃO    SIM  Turma 1   \n",
      "1    487.616.658-78  PRIVATE     Aventureiro      NÃO    NÃO  Turma 1   \n",
      "2       47708667801  PRIVATE         Capitão      SIM    SIM  Turma 1   \n",
      "3       50566866897   PUBLIC     Controlador      NÃO    SIM  Turma 1   \n",
      "4   430.804.608-47   PRIVATE        Operador      SIM    SIM  Turma 1   \n",
      "..              ...      ...             ...      ...    ...      ...   \n",
      "85      45428688858   PUBLIC      Adaptativo      NÃO    SIM  Turma 4   \n",
      "86   408.792.148-48  PRIVATE     Colaborador      SIM    NÃO  Turma 4   \n",
      "87     467691418-09  PRIVATE        Promotor      SIM    SIM  Turma 4   \n",
      "88   147.560.184-08   PUBLIC  Individualista      NÃO    SIM  Turma 4   \n",
      "89      23347167821  PRIVATE        Operador      SIM    SIM  Turma 4   \n",
      "\n",
      "             Dia Sala    Professor  \n",
      "0   Quinta-feira   P4        Grilo  \n",
      "1   Quinta-feira   P4        Grilo  \n",
      "2   Quinta-feira   P4        Grilo  \n",
      "3   Quinta-feira   P4        Grilo  \n",
      "4   Quinta-feira   P4        Grilo  \n",
      "..           ...  ...          ...  \n",
      "85  Quinta-feira   P9  Daniel Neto  \n",
      "86  Quinta-feira   P9  Daniel Neto  \n",
      "87  Quinta-feira   P9  Daniel Neto  \n",
      "88  Quinta-feira   P9  Daniel Neto  \n",
      "89  Quinta-feira   P9  Daniel Neto  \n",
      "\n",
      "[90 rows x 14 columns]\n"
     ]
    }
   ],
   "source": [
    "arquivo = 'dados.xlsx'\n",
    "df = pd.read_excel(arquivo)\n",
    "print(df)"
   ]
  },
  {
   "cell_type": "markdown",
   "metadata": {},
   "source": [
    "### Configurando a conexão com o Banco de dados e a tabela"
   ]
  },
  {
   "cell_type": "code",
   "execution_count": 7,
   "metadata": {},
   "outputs": [
    {
     "ename": "KeyError",
     "evalue": "'genero'",
     "output_type": "error",
     "traceback": [
      "\u001b[1;31m---------------------------------------------------------------------------\u001b[0m",
      "\u001b[1;31mKeyError\u001b[0m                                  Traceback (most recent call last)",
      "File \u001b[1;32m~\\AppData\\Roaming\\Python\\Python312\\site-packages\\pandas\\core\\indexes\\base.py:3805\u001b[0m, in \u001b[0;36mIndex.get_loc\u001b[1;34m(self, key)\u001b[0m\n\u001b[0;32m   3804\u001b[0m \u001b[38;5;28;01mtry\u001b[39;00m:\n\u001b[1;32m-> 3805\u001b[0m     \u001b[38;5;28;01mreturn\u001b[39;00m \u001b[38;5;28;43mself\u001b[39;49m\u001b[38;5;241;43m.\u001b[39;49m\u001b[43m_engine\u001b[49m\u001b[38;5;241;43m.\u001b[39;49m\u001b[43mget_loc\u001b[49m\u001b[43m(\u001b[49m\u001b[43mcasted_key\u001b[49m\u001b[43m)\u001b[49m\n\u001b[0;32m   3806\u001b[0m \u001b[38;5;28;01mexcept\u001b[39;00m \u001b[38;5;167;01mKeyError\u001b[39;00m \u001b[38;5;28;01mas\u001b[39;00m err:\n",
      "File \u001b[1;32mindex.pyx:167\u001b[0m, in \u001b[0;36mpandas._libs.index.IndexEngine.get_loc\u001b[1;34m()\u001b[0m\n",
      "File \u001b[1;32mindex.pyx:196\u001b[0m, in \u001b[0;36mpandas._libs.index.IndexEngine.get_loc\u001b[1;34m()\u001b[0m\n",
      "File \u001b[1;32mpandas\\\\_libs\\\\hashtable_class_helper.pxi:7081\u001b[0m, in \u001b[0;36mpandas._libs.hashtable.PyObjectHashTable.get_item\u001b[1;34m()\u001b[0m\n",
      "File \u001b[1;32mpandas\\\\_libs\\\\hashtable_class_helper.pxi:7089\u001b[0m, in \u001b[0;36mpandas._libs.hashtable.PyObjectHashTable.get_item\u001b[1;34m()\u001b[0m\n",
      "\u001b[1;31mKeyError\u001b[0m: 'genero'",
      "\nThe above exception was the direct cause of the following exception:\n",
      "\u001b[1;31mKeyError\u001b[0m                                  Traceback (most recent call last)",
      "Cell \u001b[1;32mIn[7], line 22\u001b[0m\n\u001b[0;32m     15\u001b[0m \u001b[38;5;66;03m# Loop através do DataFrame e inserir cada linha na tabela Room\u001b[39;00m\n\u001b[0;32m     16\u001b[0m \u001b[38;5;28;01mfor\u001b[39;00m index, row \u001b[38;5;129;01min\u001b[39;00m df\u001b[38;5;241m.\u001b[39miterrows():\n\u001b[0;32m     17\u001b[0m     cur\u001b[38;5;241m.\u001b[39mexecute(\n\u001b[0;32m     18\u001b[0m \u001b[38;5;250m        \u001b[39m\u001b[38;5;124;03m\"\"\"\u001b[39;00m\n\u001b[0;32m     19\u001b[0m \u001b[38;5;124;03m        INSERT INTO candidatos (nome, genero, dt_nascimento, nr_inscricao, cpf, escola, pi, notebook, jantar, turma, periodo, sala, professor, idade, email, url)\u001b[39;00m\n\u001b[0;32m     20\u001b[0m \u001b[38;5;124;03m        VALUES (%s, %s, %s, %s, %s, %s, %s, %s, %s, %s, %s, %s, %s, %s, %s, %s)\u001b[39;00m\n\u001b[0;32m     21\u001b[0m \u001b[38;5;124;03m        \"\"\"\u001b[39;00m,\n\u001b[1;32m---> 22\u001b[0m         (row[\u001b[38;5;124m'\u001b[39m\u001b[38;5;124mN\u001b[39m\u001b[38;5;124m'\u001b[39m], \u001b[43mrow\u001b[49m\u001b[43m[\u001b[49m\u001b[38;5;124;43m'\u001b[39;49m\u001b[38;5;124;43mgenero\u001b[39;49m\u001b[38;5;124;43m'\u001b[39;49m\u001b[43m]\u001b[49m, row[\u001b[38;5;124m'\u001b[39m\u001b[38;5;124mdt_nascimento\u001b[39m\u001b[38;5;124m'\u001b[39m], row[\u001b[38;5;124m'\u001b[39m\u001b[38;5;124mnr_inscricao\u001b[39m\u001b[38;5;124m'\u001b[39m], row[\u001b[38;5;124m'\u001b[39m\u001b[38;5;124mcpf\u001b[39m\u001b[38;5;124m'\u001b[39m], row[\u001b[38;5;124m'\u001b[39m\u001b[38;5;124mescola\u001b[39m\u001b[38;5;124m'\u001b[39m], row[\u001b[38;5;124m'\u001b[39m\u001b[38;5;124mpi\u001b[39m\u001b[38;5;124m'\u001b[39m], row[\u001b[38;5;124m'\u001b[39m\u001b[38;5;124mnotebook\u001b[39m\u001b[38;5;124m'\u001b[39m], row[\u001b[38;5;124m'\u001b[39m\u001b[38;5;124mjantar\u001b[39m\u001b[38;5;124m'\u001b[39m], row[\u001b[38;5;124m'\u001b[39m\u001b[38;5;124mturma\u001b[39m\u001b[38;5;124m'\u001b[39m], row[\u001b[38;5;124m'\u001b[39m\u001b[38;5;124mperiodo\u001b[39m\u001b[38;5;124m'\u001b[39m], row[\u001b[38;5;124m'\u001b[39m\u001b[38;5;124msala\u001b[39m\u001b[38;5;124m'\u001b[39m], row[\u001b[38;5;124m'\u001b[39m\u001b[38;5;124mprofessor\u001b[39m\u001b[38;5;124m'\u001b[39m], row[\u001b[38;5;124m'\u001b[39m\u001b[38;5;124midade\u001b[39m\u001b[38;5;124m'\u001b[39m], row[\u001b[38;5;124m'\u001b[39m\u001b[38;5;124memail\u001b[39m\u001b[38;5;124m'\u001b[39m], row[\u001b[38;5;124m'\u001b[39m\u001b[38;5;124murl\u001b[39m\u001b[38;5;124m'\u001b[39m])\n\u001b[0;32m     23\u001b[0m     )\n\u001b[0;32m     25\u001b[0m \u001b[38;5;66;03m# Commit as mudanças\u001b[39;00m\n\u001b[0;32m     26\u001b[0m conn\u001b[38;5;241m.\u001b[39mcommit()\n",
      "File \u001b[1;32m~\\AppData\\Roaming\\Python\\Python312\\site-packages\\pandas\\core\\series.py:1121\u001b[0m, in \u001b[0;36mSeries.__getitem__\u001b[1;34m(self, key)\u001b[0m\n\u001b[0;32m   1118\u001b[0m     \u001b[38;5;28;01mreturn\u001b[39;00m \u001b[38;5;28mself\u001b[39m\u001b[38;5;241m.\u001b[39m_values[key]\n\u001b[0;32m   1120\u001b[0m \u001b[38;5;28;01melif\u001b[39;00m key_is_scalar:\n\u001b[1;32m-> 1121\u001b[0m     \u001b[38;5;28;01mreturn\u001b[39;00m \u001b[38;5;28;43mself\u001b[39;49m\u001b[38;5;241;43m.\u001b[39;49m\u001b[43m_get_value\u001b[49m\u001b[43m(\u001b[49m\u001b[43mkey\u001b[49m\u001b[43m)\u001b[49m\n\u001b[0;32m   1123\u001b[0m \u001b[38;5;66;03m# Convert generator to list before going through hashable part\u001b[39;00m\n\u001b[0;32m   1124\u001b[0m \u001b[38;5;66;03m# (We will iterate through the generator there to check for slices)\u001b[39;00m\n\u001b[0;32m   1125\u001b[0m \u001b[38;5;28;01mif\u001b[39;00m is_iterator(key):\n",
      "File \u001b[1;32m~\\AppData\\Roaming\\Python\\Python312\\site-packages\\pandas\\core\\series.py:1237\u001b[0m, in \u001b[0;36mSeries._get_value\u001b[1;34m(self, label, takeable)\u001b[0m\n\u001b[0;32m   1234\u001b[0m     \u001b[38;5;28;01mreturn\u001b[39;00m \u001b[38;5;28mself\u001b[39m\u001b[38;5;241m.\u001b[39m_values[label]\n\u001b[0;32m   1236\u001b[0m \u001b[38;5;66;03m# Similar to Index.get_value, but we do not fall back to positional\u001b[39;00m\n\u001b[1;32m-> 1237\u001b[0m loc \u001b[38;5;241m=\u001b[39m \u001b[38;5;28;43mself\u001b[39;49m\u001b[38;5;241;43m.\u001b[39;49m\u001b[43mindex\u001b[49m\u001b[38;5;241;43m.\u001b[39;49m\u001b[43mget_loc\u001b[49m\u001b[43m(\u001b[49m\u001b[43mlabel\u001b[49m\u001b[43m)\u001b[49m\n\u001b[0;32m   1239\u001b[0m \u001b[38;5;28;01mif\u001b[39;00m is_integer(loc):\n\u001b[0;32m   1240\u001b[0m     \u001b[38;5;28;01mreturn\u001b[39;00m \u001b[38;5;28mself\u001b[39m\u001b[38;5;241m.\u001b[39m_values[loc]\n",
      "File \u001b[1;32m~\\AppData\\Roaming\\Python\\Python312\\site-packages\\pandas\\core\\indexes\\base.py:3812\u001b[0m, in \u001b[0;36mIndex.get_loc\u001b[1;34m(self, key)\u001b[0m\n\u001b[0;32m   3807\u001b[0m     \u001b[38;5;28;01mif\u001b[39;00m \u001b[38;5;28misinstance\u001b[39m(casted_key, \u001b[38;5;28mslice\u001b[39m) \u001b[38;5;129;01mor\u001b[39;00m (\n\u001b[0;32m   3808\u001b[0m         \u001b[38;5;28misinstance\u001b[39m(casted_key, abc\u001b[38;5;241m.\u001b[39mIterable)\n\u001b[0;32m   3809\u001b[0m         \u001b[38;5;129;01mand\u001b[39;00m \u001b[38;5;28many\u001b[39m(\u001b[38;5;28misinstance\u001b[39m(x, \u001b[38;5;28mslice\u001b[39m) \u001b[38;5;28;01mfor\u001b[39;00m x \u001b[38;5;129;01min\u001b[39;00m casted_key)\n\u001b[0;32m   3810\u001b[0m     ):\n\u001b[0;32m   3811\u001b[0m         \u001b[38;5;28;01mraise\u001b[39;00m InvalidIndexError(key)\n\u001b[1;32m-> 3812\u001b[0m     \u001b[38;5;28;01mraise\u001b[39;00m \u001b[38;5;167;01mKeyError\u001b[39;00m(key) \u001b[38;5;28;01mfrom\u001b[39;00m \u001b[38;5;21;01merr\u001b[39;00m\n\u001b[0;32m   3813\u001b[0m \u001b[38;5;28;01mexcept\u001b[39;00m \u001b[38;5;167;01mTypeError\u001b[39;00m:\n\u001b[0;32m   3814\u001b[0m     \u001b[38;5;66;03m# If we have a listlike key, _check_indexing_error will raise\u001b[39;00m\n\u001b[0;32m   3815\u001b[0m     \u001b[38;5;66;03m#  InvalidIndexError. Otherwise we fall through and re-raise\u001b[39;00m\n\u001b[0;32m   3816\u001b[0m     \u001b[38;5;66;03m#  the TypeError.\u001b[39;00m\n\u001b[0;32m   3817\u001b[0m     \u001b[38;5;28mself\u001b[39m\u001b[38;5;241m.\u001b[39m_check_indexing_error(key)\n",
      "\u001b[1;31mKeyError\u001b[0m: 'genero'"
     ]
    }
   ],
   "source": [
    "import psycopg2\n",
    "\n",
    "# Conectar ao banco de dados PostgreSQL\n",
    "conn = psycopg2.connect(\n",
    "    dbname=\"dbpresencatech2025\",\n",
    "    user=\"dbpresencatech2025_user\",\n",
    "    password=\"3xFezRq99dDulmawROUuP5cWTowtAx5K\",\n",
    "    host=\"dpg-cpqrj6dumphs73b19nag-a.oregon-postgres.render.com\",\n",
    "    port=\"5432\"\n",
    ")\n",
    "\n",
    "# Criar um cursor para executar comandos SQL\n",
    "cur = conn.cursor()\n",
    "\n",
    "# Loop através do DataFrame e inserir cada linha na tabela Room\n",
    "for index, row in df.iterrows():\n",
    "    cur.execute(\n",
    "        \"\"\"\n",
    "        INSERT INTO candidatos (id,nome, genero, dt_nascimento, nr_inscricao, cpf, escola, pi, notebook, jantar, turma, periodo, sala, professor, idade, email, url)\n",
    "        VALUES (%s,%s, %s, %s, %s, %s, %s, %s, %s, %s, %s, %s, %s, %s, %s, %s, %s)\n",
    "        \"\"\",\n",
    "        (row['N'], row['Nome'], row['genero'], row['dt_nascimento'], row['nr_inscricao'], row['cpf'], row['escola'], row['pi'], row['notebook'], row['jantar'], row['turma'], row['periodo'], row['sala'], row['professor'], row['idade'], row['email'], row['url'])\n",
    "    )\n",
    "\n",
    "# Commit as mudanças\n",
    "conn.commit()\n",
    "\n",
    "# Fechar o cursor e a conexão\n",
    "cur.close()\n",
    "conn.close()\n"
   ]
  }
 ],
 "metadata": {
  "kernelspec": {
   "display_name": "Python 3",
   "language": "python",
   "name": "python3"
  },
  "language_info": {
   "codemirror_mode": {
    "name": "ipython",
    "version": 3
   },
   "file_extension": ".py",
   "mimetype": "text/x-python",
   "name": "python",
   "nbconvert_exporter": "python",
   "pygments_lexer": "ipython3",
   "version": "3.12.4"
  }
 },
 "nbformat": 4,
 "nbformat_minor": 2
}

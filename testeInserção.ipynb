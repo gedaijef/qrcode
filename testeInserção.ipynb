{
 "cells": [
  {
   "cell_type": "markdown",
   "metadata": {},
   "source": [
    "# <center> Criando uma conexão para a inserção de dados do excel para uma tabela de um banco de dados </center>"
   ]
  },
  {
   "cell_type": "markdown",
   "metadata": {},
   "source": [
    "### Inserindo as bibliotecas"
   ]
  },
  {
   "cell_type": "code",
   "execution_count": 1,
   "metadata": {},
   "outputs": [],
   "source": [
    "import pandas as pd\n",
    "import psycopg2"
   ]
  },
  {
   "cell_type": "markdown",
   "metadata": {},
   "source": [
    "### Carregando os dados do excel"
   ]
  },
  {
   "cell_type": "code",
   "execution_count": 2,
   "metadata": {},
   "outputs": [
    {
     "name": "stdout",
     "output_type": "stream",
     "text": [
      "      Inscrição                               Nome     Genero   Escola  Nota  \\\n",
      "0    17001Q39V1       Alexsander Alves Oliveira     Masculino  Publico  13.5   \n",
      "1    39590GUBJR  Alisson Alves Dos Santos Oliveira  Masculino  Privado  19.0   \n",
      "2    28164R5EUW         Allana Rodrigues Abrego      Feminino  Privado  15.5   \n",
      "3    75290JM2LS        Amanda Barban Scacalossi      Feminino  Privado  17.0   \n",
      "4    345543HTDD      Ana Carolina Pereira Barbosa    Feminino  Privado  14.0   \n",
      "..          ...                                ...        ...      ...   ...   \n",
      "343  43939XUAJK           Gabriela Emi Yamamoto      Feminino  Privado  20.5   \n",
      "344  53889CYMD3        Sophia Naziozeno Fuccile      Feminino  Privado  19.5   \n",
      "345  83554VFDT7             Caio Domingos Silva     Masculino  Publico  17.5   \n",
      "346  03697A0G0X          Beatriz Paro Giannelli      Feminino  Publico  15.5   \n",
      "347  616863DTQA        Eduarda Da Fonseca Casaroli   Feminino  Publico  14.5   \n",
      "\n",
      "        Dia Notebook Jantar   Turmas Sala Professor Observações  Unnamed: 12  \\\n",
      "0     Sexta      NÃO    SIM   Turma7   T1     Santi         NaN          NaN   \n",
      "1    Quinta      NÃO    SIM   Turma6   T7      João         NaN          NaN   \n",
      "2     Sexta      SIM    SIM   Turma8   T2     Grilo         NaN          NaN   \n",
      "3     Sexta      SIM    SIM   Turma7   T1     Santi         NaN          NaN   \n",
      "4     Sexta      NÃO    SIM  Turma11   T5    Daniel         NaN          NaN   \n",
      "..      ...      ...    ...      ...  ...       ...         ...          ...   \n",
      "343  Quinta      NaN    NaN   Turma3   T3    Modolo    DESISTIU          NaN   \n",
      "344  Quinta    Falta  Falta   Turma4   T4   Nisflei         NaN          NaN   \n",
      "345   Sexta    Falta  Falta   Turma8   T2     Grilo         NaN          NaN   \n",
      "346   Sexta    Falta  Falta  Turma11   T5    Daniel         NaN          NaN   \n",
      "347  Quinta    Falta  Falta   Turma1   T1     Santi         NaN          NaN   \n",
      "\n",
      "      Total   340 Unnamed: 15              Unnamed: 16  Unnamed: 17  \\\n",
      "0    Turma1  27.0         NaN  Precisa de NOTE por dia          NaN   \n",
      "1    Turma2  28.0         NaN                   Quinta          NaN   \n",
      "2    Turma3  28.0         NaN                      SIM        128.0   \n",
      "3    Turma4  29.0         NaN                      NÃO         43.0   \n",
      "4    Turma5  30.0         NaN                    Sexta          NaN   \n",
      "..      ...   ...         ...                      ...          ...   \n",
      "343     NaN   NaN         NaN                      NaN          NaN   \n",
      "344     NaN   NaN         NaN                      NaN          NaN   \n",
      "345     NaN   NaN         NaN                      NaN          NaN   \n",
      "346     NaN   NaN         NaN                      NaN          NaN   \n",
      "347     NaN   NaN         NaN                      NaN          NaN   \n",
      "\n",
      "     Unnamed: 18  \n",
      "0            NaN  \n",
      "1            NaN  \n",
      "2            NaN  \n",
      "3            NaN  \n",
      "4            NaN  \n",
      "..           ...  \n",
      "343          NaN  \n",
      "344          NaN  \n",
      "345          NaN  \n",
      "346          NaN  \n",
      "347          NaN  \n",
      "\n",
      "[348 rows x 19 columns]\n"
     ]
    }
   ],
   "source": [
    "arquivo = 'Cuidado_com_os_dados.xlsx'\n",
    "df = pd.read_excel(arquivo)\n",
    "print(df)"
   ]
  },
  {
   "cell_type": "markdown",
   "metadata": {},
   "source": [
    "### Configurando a conexão com o Banco de dados e a tabela"
   ]
  },
  {
   "cell_type": "code",
   "execution_count": 3,
   "metadata": {},
   "outputs": [],
   "source": [
    "import psycopg2\n",
    "\n",
    "# Conectar ao banco de dados PostgreSQL\n",
    "conn = psycopg2.connect(\n",
    "    dbname=\"dbpresencatech2025\",\n",
    "    user=\"dbpresencatech2025_user\",\n",
    "    password=\"3xFezRq99dDulmawROUuP5cWTowtAx5K\",\n",
    "    host=\"dpg-cpqrj6dumphs73b19nag-a.oregon-postgres.render.com\",\n",
    "    port=\"5432\"\n",
    ")\n",
    "\n",
    "# Criar um cursor para executar comandos SQL\n",
    "cur = conn.cursor()\n",
    "\n",
    "# Loop através do DataFrame e inserir cada linha na tabela Room\n",
    "for index, row in df.iterrows():\n",
    "    cur.execute(\n",
    "        \"\"\"\n",
    "        INSERT INTO candidatos (nome, genero, nr_inscricao, escola, notebook, jantar, turma, periodo, sala, professor)\n",
    "        VALUES (%s, %s, %s, %s, %s, %s, %s, %s, %s, %s)\n",
    "        \"\"\",\n",
    "        (row['Nome'], row['Genero'], row['Inscrição'], row['Escola'], row['Notebook'], row['Jantar'], row['Turmas'], row['Dia'], row['Sala'], row['Professor'])\n",
    "    )\n",
    "\n",
    "# Commit as mudanças\n",
    "conn.commit()\n",
    "\n",
    "# Fechar o cursor e a conexão\n",
    "cur.close()\n",
    "conn.close()\n"
   ]
  }
 ],
 "metadata": {
  "kernelspec": {
   "display_name": "Python 3",
   "language": "python",
   "name": "python3"
  },
  "language_info": {
   "codemirror_mode": {
    "name": "ipython",
    "version": 3
   },
   "file_extension": ".py",
   "mimetype": "text/x-python",
   "name": "python",
   "nbconvert_exporter": "python",
   "pygments_lexer": "ipython3",
   "version": "3.12.4"
  }
 },
 "nbformat": 4,
 "nbformat_minor": 2
}

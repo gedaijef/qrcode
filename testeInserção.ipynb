{
 "cells": [
  {
   "cell_type": "markdown",
   "metadata": {},
   "source": [
    "# <center> Criando uma conexão para a inserção de dados do excel para uma tabela de um banco de dados </center>"
   ]
  },
  {
   "cell_type": "markdown",
   "metadata": {},
   "source": [
    "### Inserindo as bibliotecas"
   ]
  },
  {
   "cell_type": "code",
   "execution_count": 1,
   "metadata": {},
   "outputs": [],
   "source": [
    "import pandas as pd\n",
    "import psycopg2"
   ]
  },
  {
   "cell_type": "markdown",
   "metadata": {},
   "source": [
    "### Carregando os dados do excel"
   ]
  },
  {
   "cell_type": "code",
   "execution_count": 2,
   "metadata": {},
   "outputs": [
    {
     "name": "stdout",
     "output_type": "stream",
     "text": [
      "   name  floor  capacity  has_tv             type start_time_free  \\\n",
      "0   101      1         8    True  Sala de Reunião        07:00:00   \n",
      "1   102      1         2   False  Sala de Reunião        07:00:00   \n",
      "2   103      1         4   False  Sala de Reunião        07:00:00   \n",
      "3   104      1         4   False  Sala de Reunião        07:00:00   \n",
      "4   105      1         4   False  Sala de Reunião        07:00:00   \n",
      "5   106      1         4    True  Sala de Reunião        07:00:00   \n",
      "6   107      1         4    True  Sala de Reunião        07:00:00   \n",
      "7   108      1         4   False  Sala de Reunião        07:00:00   \n",
      "8   109      1         4    True  Sala de Reunião        07:00:00   \n",
      "9   110      1         8    True  Sala de Reunião        07:00:00   \n",
      "10  201      2         8    True  Sala de Reunião        07:00:00   \n",
      "11  202      2         6    True  Sala de Reunião        07:00:00   \n",
      "12  301      3         6    True  Sala de Reunião        07:00:00   \n",
      "13  302      3         6    True  Sala de Reunião        07:00:00   \n",
      "14  601      6         1   False  Sala de Reunião        07:00:00   \n",
      "15  602      6         1   False  Sala de Reunião        07:00:00   \n",
      "16  603      6         6    True  Sala de Reunião        07:00:00   \n",
      "17  604      6         6    True  Sala de Reunião        07:00:00   \n",
      "18  P01      1        25    True     Sala de Aula        12:30:00   \n",
      "19  P07      1        25    True     Sala de Aula        13:30:00   \n",
      "20  P08      1        25    True     Sala de Aula        12:30:00   \n",
      "21  P14      1        25    True     Sala de Aula        13:30:00   \n",
      "22  S01      2        25    True     Sala de Aula        11:30:00   \n",
      "23  S02      2        25    True     Sala de Aula        15:30:00   \n",
      "24  S03      2        25    True     Sala de Aula        15:30:00   \n",
      "25  S04      2        25    True     Sala de Aula        15:30:00   \n",
      "26  S05      2        25    True     Sala de Aula        15:30:00   \n",
      "27  S06      2        25    True     Sala de Aula        15:30:00   \n",
      "28  S07      2        25    True     Sala de Aula        12:30:00   \n",
      "29  S08      2        25    True     Sala de Aula        13:30:00   \n",
      "30  S09      2        25    True     Sala de Aula        13:30:00   \n",
      "31  S10      2        25    True     Sala de Aula        13:30:00   \n",
      "32  S11      2        25    True     Sala de Aula        13:30:00   \n",
      "33  S12      2        25    True     Sala de Aula        10:00:00   \n",
      "34  S13      2        25    True     Sala de Aula        10:00:00   \n",
      "35  S14      2        25    True     Sala de Aula        11:30:00   \n",
      "\n",
      "   final_time_free  \n",
      "0         19:00:00  \n",
      "1         19:00:00  \n",
      "2         19:00:00  \n",
      "3         19:00:00  \n",
      "4         19:00:00  \n",
      "5         19:00:00  \n",
      "6         19:00:00  \n",
      "7         19:00:00  \n",
      "8         19:00:00  \n",
      "9         19:00:00  \n",
      "10        19:00:00  \n",
      "11        19:00:00  \n",
      "12        19:00:00  \n",
      "13        19:00:00  \n",
      "14        19:00:00  \n",
      "15        19:00:00  \n",
      "16        19:00:00  \n",
      "17        19:00:00  \n",
      "18        19:00:00  \n",
      "19        19:00:00  \n",
      "20        19:00:00  \n",
      "21        19:00:00  \n",
      "22        19:00:00  \n",
      "23        19:00:00  \n",
      "24        19:00:00  \n",
      "25        19:00:00  \n",
      "26        19:00:00  \n",
      "27        19:00:00  \n",
      "28        19:00:00  \n",
      "29        19:00:00  \n",
      "30        19:00:00  \n",
      "31        19:00:00  \n",
      "32        19:00:00  \n",
      "33        19:00:00  \n",
      "34        19:00:00  \n",
      "35        19:00:00  \n"
     ]
    }
   ],
   "source": [
    "arquivo = 'RelacaoSalaConexao.xlsx'\n",
    "df = pd.read_excel(arquivo)\n",
    "print(df)"
   ]
  },
  {
   "cell_type": "markdown",
   "metadata": {},
   "source": [
    "### Configurando a conexão com o Banco de dados e a tabela"
   ]
  },
  {
   "cell_type": "code",
   "execution_count": 3,
   "metadata": {},
   "outputs": [],
   "source": [
    "import psycopg2\n",
    "\n",
    "# Conectar ao banco de dados PostgreSQL\n",
    "conn = psycopg2.connect(\n",
    "    dbname=\"dbpresencatech2025\",\n",
    "    user=\"dbpresencatech2025_user\",\n",
    "    password=\"3xFezRq99dDulmawROUuP5cWTowtAx5K\",\n",
    "    host=\"dpg-cpqrj6dumphs73b19nag-a.oregon-postgres.render.com\",\n",
    "    port=\"5432\"\n",
    ")\n",
    "\n",
    "# Criar um cursor para executar comandos SQL\n",
    "cur = conn.cursor()\n",
    "\n",
    "# Loop através do DataFrame e inserir cada linha na tabela Room\n",
    "for index, row in df.iterrows():\n",
    "    cur.execute(\n",
    "        \"\"\"\n",
    "        INSERT INTO candidatos (nome, genero, dt_nascimento, nr_inscricao, cpf, escola, pi, notebook, jantar, turma, periodo, sala, professor, idade, email, url)\n",
    "        VALUES (%s, %s, %s, %s, %s, %s, %s, %s, %s, %s, %s, %s, %s, %s, %s, %s)\n",
    "        \"\"\",\n",
    "        (row['nome'], row['genero'], row['dt_nascimento'], row['nr_inscricao'], row['cpf'], row['escola'], row['pi'], row['notebook'], row['jantar'], row['turma'], row['periodo'], row['sala'], row['professor'], row['idade'], row['email'], row['url'])\n",
    "    )\n",
    "\n",
    "# Commit as mudanças\n",
    "conn.commit()\n",
    "\n",
    "# Fechar o cursor e a conexão\n",
    "cur.close()\n",
    "conn.close()\n"
   ]
  }
 ],
 "metadata": {
  "kernelspec": {
   "display_name": "Python 3",
   "language": "python",
   "name": "python3"
  },
  "language_info": {
   "codemirror_mode": {
    "name": "ipython",
    "version": 3
   },
   "file_extension": ".py",
   "mimetype": "text/x-python",
   "name": "python",
   "nbconvert_exporter": "python",
   "pygments_lexer": "ipython3",
   "version": "3.11.4"
  }
 },
 "nbformat": 4,
 "nbformat_minor": 2
}

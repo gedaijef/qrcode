{
 "cells": [
  {
   "cell_type": "markdown",
   "metadata": {},
   "source": [
    "Para importar as bibliotecas"
   ]
  },
  {
   "cell_type": "code",
   "execution_count": 14,
   "metadata": {},
   "outputs": [],
   "source": [
    "import pandas as pd\n",
    "import numpy as np\n",
    "import qrcode\n",
    "import os"
   ]
  },
  {
   "cell_type": "markdown",
   "metadata": {},
   "source": [
    "Para gerar as pastas e os páginas HTML"
   ]
  },
  {
   "cell_type": "code",
   "execution_count": 15,
   "metadata": {},
   "outputs": [
    {
     "ename": "FileExistsError",
     "evalue": "[WinError 183] Não é possível criar um arquivo já existente: 'paginas_html/F97T3482EV5'",
     "output_type": "error",
     "traceback": [
      "\u001b[1;31m---------------------------------------------------------------------------\u001b[0m",
      "\u001b[1;31mFileExistsError\u001b[0m                           Traceback (most recent call last)",
      "Cell \u001b[1;32mIn[15], line 43\u001b[0m\n\u001b[0;32m     39\u001b[0m \u001b[38;5;66;03m# print(info)\u001b[39;00m\n\u001b[0;32m     42\u001b[0m folder \u001b[38;5;241m=\u001b[39m os\u001b[38;5;241m.\u001b[39mpath\u001b[38;5;241m.\u001b[39mjoin(\u001b[38;5;124m\"\u001b[39m\u001b[38;5;124mpaginas_html/\u001b[39m\u001b[38;5;124m\"\u001b[39m, base_html[\u001b[38;5;124m\"\u001b[39m\u001b[38;5;124mInscrição\u001b[39m\u001b[38;5;124m\"\u001b[39m][i])\n\u001b[1;32m---> 43\u001b[0m \u001b[43mos\u001b[49m\u001b[38;5;241;43m.\u001b[39;49m\u001b[43mmkdir\u001b[49m\u001b[43m(\u001b[49m\u001b[43mfolder\u001b[49m\u001b[43m)\u001b[49m\n\u001b[0;32m     44\u001b[0m arquivo \u001b[38;5;241m=\u001b[39m \u001b[38;5;28mopen\u001b[39m(\u001b[38;5;124mf\u001b[39m\u001b[38;5;124m'\u001b[39m\u001b[38;5;132;01m{\u001b[39;00mfolder\u001b[38;5;132;01m}\u001b[39;00m\u001b[38;5;124m/\u001b[39m\u001b[38;5;132;01m{\u001b[39;00mbase_html[\u001b[38;5;124m\"\u001b[39m\u001b[38;5;124mInscrição\u001b[39m\u001b[38;5;124m\"\u001b[39m][i]\u001b[38;5;132;01m}\u001b[39;00m\u001b[38;5;124m.html\u001b[39m\u001b[38;5;124m'\u001b[39m, \u001b[38;5;124m\"\u001b[39m\u001b[38;5;124ma\u001b[39m\u001b[38;5;124m\"\u001b[39m)\n\u001b[0;32m     45\u001b[0m \u001b[38;5;66;03m#arquivo = open(f'teste.html', \"a\")\u001b[39;00m\n\u001b[0;32m     46\u001b[0m \n\u001b[0;32m     47\u001b[0m \u001b[38;5;66;03m# print(site)\u001b[39;00m\n",
      "\u001b[1;31mFileExistsError\u001b[0m: [WinError 183] Não é possível criar um arquivo já existente: 'paginas_html/F97T3482EV5'"
     ]
    }
   ],
   "source": [
    "\n",
    "base_html = pd.read_excel('finalizado.xlsx',\n",
    "                              usecols=['Nome','Turma', 'Sala', 'Professor', 'Inscrição'])\n",
    "\n",
    "# for i in range(len(base_html)):\n",
    "for i in range(len(base_html)):\n",
    "     \n",
    "    site = f\"\"\"\n",
    "    <!DOCTYPE html>\n",
    "    <html lang=\"pt-br\">\n",
    "    <head>\n",
    "        <meta charset=\"UTF-8\">\n",
    "        <meta name=\"viewport\" content=\"width=device-width, initial-scale=1.0\">\n",
    "        <title>Germinare TECH</title>\n",
    "        <style>\n",
    "            p{{\n",
    "                font: arial;\n",
    "                font-size: 1.5em;\n",
    "            }}\n",
    "\n",
    "        </style>\n",
    "    </head>\n",
    "        <body>\n",
    "        <h1>NÃ</h1>\n",
    "            <p>\n",
    "                Nome: <strong>{base_html[\"Nome\"][i]}</strong>\n",
    "            </p>\n",
    "            <p>\n",
    "                Turma: <strong>{base_html[\"Turma\"][i]}</strong>\n",
    "            </p>\n",
    "            <p>\n",
    "                Sala: <strong>{base_html[\"Sala\"][i]}</strong>\n",
    "            </p>\n",
    "            <p>\n",
    "                Professor: <strong>{base_html[\"Professor\"][i]}</strong> \n",
    "            </p>\n",
    "        </body>\n",
    "        </html>\n",
    "        \"\"\"\n",
    "    # print(info)\n",
    "\n",
    "\n",
    "    folder = os.path.join(\"paginas_html/\", base_html[\"Inscrição\"][i])\n",
    "    os.mkdir(folder)\n",
    "    arquivo = open(f'{folder}/{base_html[\"Inscrição\"][i]}.html', \"a\")\n",
    "    #arquivo = open(f'teste.html', \"a\")\n",
    "\n",
    "    # print(site)\n",
    "    arquivo.write(site)\n",
    "    arquivo.close()"
   ]
  },
  {
   "cell_type": "markdown",
   "metadata": {},
   "source": [
    "Para gerar os QR_Codes"
   ]
  },
  {
   "cell_type": "code",
   "execution_count": null,
   "metadata": {},
   "outputs": [],
   "source": [
    "df_qr = pd.read_excel('finalizado.xlsx',\n",
    "                              usecols=['Nome','Turma', 'Sala', 'Professor', 'Inscrição'])\n",
    "\n",
    "# for i in range(len(df_qr)):\n",
    "for i in range(len(df_qr)):\n",
    "    nome_insc = \"\"\n",
    "    link = f'https://gedaijef.github.io/qrcode/paginas_html/{df_qr[\"Inscrição\"][i].replace(\" \", \"_\")}/{df_qr[\"Inscrição\"][i].replace(\" \", \"_\")}.html'\n",
    "    qrimg = qrcode.make(link)\n",
    "    qrimg.save(f'qrCodes/{df_qr[\"Inscrição\"][i].replace(\" \", \"_\")}.png')"
   ]
  },
  {
   "cell_type": "code",
   "execution_count": null,
   "metadata": {},
   "outputs": [],
   "source": []
  }
 ],
 "metadata": {
  "kernelspec": {
   "display_name": "Python 3",
   "language": "python",
   "name": "python3"
  },
  "language_info": {
   "codemirror_mode": {
    "name": "ipython",
    "version": 3
   },
   "file_extension": ".py",
   "mimetype": "text/x-python",
   "name": "python",
   "nbconvert_exporter": "python",
   "pygments_lexer": "ipython3",
   "version": "3.12.1"
  },
  "orig_nbformat": 4
 },
 "nbformat": 4,
 "nbformat_minor": 2
}
